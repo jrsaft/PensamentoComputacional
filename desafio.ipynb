{
  "nbformat": 4,
  "nbformat_minor": 0,
  "metadata": {
    "colab": {
      "provenance": [],
      "authorship_tag": "ABX9TyNZ3qbIpVnynRSdWvp94SiU",
      "include_colab_link": true
    },
    "kernelspec": {
      "name": "python3",
      "display_name": "Python 3"
    },
    "language_info": {
      "name": "python"
    }
  },
  "cells": [
    {
      "cell_type": "markdown",
      "metadata": {
        "id": "view-in-github",
        "colab_type": "text"
      },
      "source": [
        "<a href=\"https://colab.research.google.com/github/jrsaft/PensamentoComputacional/blob/main/desafio.ipynb\" target=\"_parent\"><img src=\"https://colab.research.google.com/assets/colab-badge.svg\" alt=\"Open In Colab\"/></a>"
      ]
    },
    {
      "cell_type": "markdown",
      "source": [
        "# Desafio Cinematográfico\n",
        "\n",
        "Seu desafio é desenvolver um programa em Python para registrar os\n",
        "filmes favoritos e as notas que você dá a cada um deles.\n",
        "\n",
        "Seu programa deve:\n",
        "\n",
        "- Solicitar nomes de filmes:\n",
        "O usuário informa o nome de um filme e, em seguida, é perguntado\n",
        "se deseja cadastrar outro.\n",
        "- Armazenar os dados:\n",
        "Cada nome de filme deve ser gravado em um array com capacidade\n",
        "para até 1000 filmes.\n",
        "**O programa deve impedir a inclusão de filmes repetidos.**"
      ],
      "metadata": {
        "id": "u2V6AhD-AV3q"
      }
    },
    {
      "cell_type": "code",
      "execution_count": null,
      "metadata": {
        "id": "OEt7NIanAF-c",
        "colab": {
          "base_uri": "https://localhost:8080/"
        },
        "outputId": "99ec5614-c24d-4e1c-e587-1a7709cac0ca"
      },
      "outputs": [
        {
          "output_type": "stream",
          "name": "stdout",
          "text": [
            "Digite o nome do filme que deseja adicionar ou parar para encerrar:Barbie\n",
            "Digite a sua nota sobre o filme:6\n",
            "Digite o nome do filme que deseja adicionar ou parar para encerrar:Barbie\n",
            "Filme já cadastrado.\n"
          ]
        }
      ],
      "source": [
        "# Atalhos:\n",
        "from os import dup\n",
        "def media(avaliacoes):\n",
        "  soma = 0\n",
        "  for  filme in avaliacoes:\n",
        "    soma = soma + filme['nota']\n",
        "  return soma/conta\n",
        "\n",
        "def duplicidade(novo, filmes):\n",
        "  for filme in avaliacoes:\n",
        "    if novo == filme['nome']:\n",
        "      return True\n",
        "  return False\n",
        "\n",
        "# Criando o dicionário:\n",
        "avaliacoes = [{\"nome\": \"Duna\",\"nota\": 8.6}]\n",
        "\n",
        "# Iniciando as váriavéis:\n",
        "conta = 1\n",
        "maior = 0.1\n",
        "maior2 = 0.1\n",
        "maior3 = 0.1\n",
        "\n",
        "# Perguntando os filmes e contando a capacidade:\n",
        "while True:\n",
        "  filme = input(\"Digite o nome do filme que deseja adicionar ou parar para encerrar:\")\n",
        "  conta = conta + 1\n",
        "  if conta >= 1000:\n",
        "    print(\"Capacidade de armazenamento esgotada.\")\n",
        "    break\n",
        "  if duplicidade(filme, avaliacoes):\n",
        "    print(\"Filme já cadastrado.\")\n",
        "    continue\n",
        "  elif filme == \"parar\":\n",
        "    print(avaliacoes)\n",
        "    print(f\"A média de notas para os filmes foi:\",media(avaliacoes))\n",
        "    print(\"O seu TOP 3 melhores filmes é:\", maior, \",\", maior2, \"e\", maior3)\n",
        "  av = float(input(\"Digite a sua nota sobre o filme:\").replace(\",\",\".\"))\n",
        "  # Formando o ranking\n",
        "  if av > maior:\n",
        "    maior = av\n",
        "  elif av < maior and av > maior2:\n",
        "    maior2 = av\n",
        "  elif av < maior and av < maior2 and av > maior3:\n",
        "    maior3 = av\n",
        "\n",
        "  # Adicionando a nova lista no dicionário:\n",
        "  avaliacoes.append({\"nome\": filme, \"nota\": av})\n",
        "\n"
      ]
    }
  ]
}