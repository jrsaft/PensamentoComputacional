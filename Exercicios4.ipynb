{
  "nbformat": 4,
  "nbformat_minor": 0,
  "metadata": {
    "colab": {
      "provenance": [],
      "authorship_tag": "ABX9TyMeJWjZQXog1xtafbjdiD6H",
      "include_colab_link": true
    },
    "kernelspec": {
      "name": "python3",
      "display_name": "Python 3"
    },
    "language_info": {
      "name": "python"
    }
  },
  "cells": [
    {
      "cell_type": "markdown",
      "metadata": {
        "id": "view-in-github",
        "colab_type": "text"
      },
      "source": [
        "<a href=\"https://colab.research.google.com/github/jrsaft/PensamentoComputacional/blob/main/Exercicios4.ipynb\" target=\"_parent\"><img src=\"https://colab.research.google.com/assets/colab-badge.svg\" alt=\"Open In Colab\"/></a>"
      ]
    },
    {
      "cell_type": "markdown",
      "source": [
        "1. Faça um algoritmo em Python que leia a nota de vários alunos de uma turma. Ao final, deve ser\n",
        "escrita a média geral da turma. A leitura das médias somente encerra quando uma nota negativa\n",
        "for digitada.\n"
      ],
      "metadata": {
        "id": "gZESoYp5Cbpw"
      }
    },
    {
      "cell_type": "code",
      "source": [
        "# Zerando as variaveis:\n",
        "nota = 0\n",
        "media = 0\n",
        "soma = 0\n",
        "qnt_alunos = 0\n",
        "\n",
        "# Coletando as notas até a primeira nota negativa:\n",
        "\n",
        "\n",
        "while True:\n",
        "  nota = float(input(\"Digite a nota do aluno:\"))\n",
        "  if nota < 0.0:\n",
        "    break\n",
        "  soma = soma + nota\n",
        "  qnt_alunos += 1\n",
        "  continue\n",
        "print(\"A média da turma é:\",soma/qnt_alunos)"
      ],
      "metadata": {
        "id": "7SAck4tw6WiO"
      },
      "execution_count": null,
      "outputs": []
    },
    {
      "cell_type": "markdown",
      "source": [
        "2. Faça um programa em Python para repetir a leitura de um número enquanto o valor fornecido for\n",
        "diferente de 0. Para cada número fornecido, escrever se ele é NEGATIVO ou POSITIVO. Quando\n",
        "o número 0 for fornecido o algoritmo deve encerrar informando o usuário."
      ],
      "metadata": {
        "id": "WwH703GvGu3z"
      }
    },
    {
      "cell_type": "code",
      "source": [
        "# Iniciando as váriaveis:\n",
        "x = 8\n",
        "\n",
        "# Lendo o número e classificando-o:\n",
        "while x != 0:\n",
        "  x = float(input(\"Digite um número:\"))\n",
        "  if x > 0:\n",
        "    print(\"Este número é positivo.\")\n",
        "  else:\n",
        "    print(\"Este número é negativo.\")\n",
        "  continue"
      ],
      "metadata": {
        "colab": {
          "base_uri": "https://localhost:8080/"
        },
        "id": "7MQKxVrSHGWA",
        "outputId": "fc644dd2-47d2-42cf-82d5-983e273f5946"
      },
      "execution_count": null,
      "outputs": [
        {
          "output_type": "stream",
          "name": "stdout",
          "text": [
            "Digite um número:-8\n",
            "Este número é negativo.\n",
            "Digite um número:7\n",
            "Este número é positivo.\n",
            "Digite um número:6\n",
            "Este número é positivo.\n",
            "Digite um número:5\n",
            "Este número é positivo.\n",
            "Digite um número:0\n",
            "Este número é negativo.\n"
          ]
        }
      ]
    },
    {
      "cell_type": "markdown",
      "source": [
        "3. Faça um programa em Python para ler uma quantidade indeterminada de valores inteiros. Para\n",
        "cada valor fornecido apresentar uma mensagem que indique se o valor fornecido é PAR ou\n",
        "ÍMPAR. O programa será encerrado imediatamente após a leitura de um valor NULO (zero) ou\n",
        "NEGATIVO."
      ],
      "metadata": {
        "id": "xbJY_NlcfUTG"
      }
    },
    {
      "cell_type": "code",
      "source": [
        "# Iniciando as váriaveis:\n",
        "x = 8\n",
        "\n",
        "# Lendo o número e classificando-o:\n",
        "while x <= 0:\n",
        "  x = float(input(\"Digite um número inteiro:\"))\n",
        "  if (x % 2) == 0:\n",
        "    print(\"Este número é par.\")\n",
        "  else:\n",
        "    print(\"Este número é ímpar.\")\n",
        "  continue"
      ],
      "metadata": {
        "id": "BF7g_IwqfVQu"
      },
      "execution_count": 15,
      "outputs": []
    },
    {
      "cell_type": "markdown",
      "source": [
        "4. Sabe-se que não existe divisão por zero, para isso faça um programa que leia dois valores inteiros\n",
        "e escreva o resultado da divisão do primeiro pelo segundo. Se o segundo valor informado for\n",
        "ZERO, deve ser impressa uma mensagem de VALOR INVÁLIDO e uma nova leitura do segundo\n",
        "valor deve ser realizada. Ao final do programa deve ser impressa a seguinte mensagem: VOCÊ\n",
        "DESEJA OUTRO CÁLCULO (S/N). Se a resposta for S o programa deverá retornar ao começo,\n",
        "caso contrário deverá encerrar."
      ],
      "metadata": {
        "id": "Cze-dcSsIe6Q"
      }
    },
    {
      "cell_type": "code",
      "source": [
        "while resp == \"sim\":\n",
        "  num1 = int(input(\"Digite o primeiro número:\"))\n",
        "  num2 = int(input(\"Digite o segundo número:\"))\n",
        "  if num2 == 0:\n",
        "    print(\"Valor inválido.\")\n",
        "    num2 = int(input(\"Digite o segundo número:\"))\n",
        "  else:\n",
        "    div = num1 / num2\n",
        "    print(div)\n",
        "    resp = input(\"Deseja fazer outro cálculo? (sim/não)\")\n",
        "    continue\n",
        ""
      ],
      "metadata": {
        "id": "x2RKgudHIk8w"
      },
      "execution_count": null,
      "outputs": []
    },
    {
      "cell_type": "markdown",
      "source": [
        "5. Faça um programa em Python que verifique a validade de uma senha fornecida pelo usuário. A\n",
        "senha válida é o número 1234.\n",
        "OBS: Se a senha informada pelo usuário for inválida, a mensagem \"ACESSO NEGADO\" deve\n",
        "ser impressa e repetida a solicitação de uma nova senha até que ela seja válida. Caso\n",
        "contrário deve ser impressa a mensagem \"ACESSO PERMITIDO\" junto com um número\n",
        "que representa quantas vezes a senha foi informada."
      ],
      "metadata": {
        "id": "MeUqD_qAjOii"
      }
    },
    {
      "cell_type": "code",
      "source": [
        "senha = int(input(\"Digite a senha:\"))\n",
        "tentativas = 1\n",
        "while senha != 1234:\n",
        "  if senha != 1234:\n",
        "    print(\"Acesso negado.\")\n",
        "    senha = int(input(\"Digite a senha:\"))\n",
        "    tentativas += 1\n",
        "    continue\n",
        "print(\"Acesso permitido. Você tentou\",tentativas,\"vezes.\")\n"
      ],
      "metadata": {
        "id": "p2ImmAfBjURT"
      },
      "execution_count": null,
      "outputs": []
    },
    {
      "cell_type": "markdown",
      "source": [
        "6. Faça um programa em Python que verifique a validade de uma senha fornecida pelo usuário. A\n",
        "senha válida é o número 1234. Se a senha informada pelo usuário for válida a mensagem\n",
        "\"ACESSO PERMITIDO\" deve ser informada. O usuário não terá acesso ao sistema se errar a\n",
        "senha três vezes, neste caso a mensagem \"ACESSO NEGADO\" deve ser informada e a cada vez\n",
        "que o usuário errar a senha, dentro do limite, a mensagem informada será \"SENHA ERRADA,\n",
        "TENTATIVA X DE 3\", sendo o X o número da tentativa."
      ],
      "metadata": {
        "id": "G2zSsUrQkXoR"
      }
    },
    {
      "cell_type": "code",
      "source": [
        "senha = int(input(\"Digite a senha:\"))\n",
        "tentativas = 1\n",
        "while senha != 1234:\n",
        "  if senha != 1234:\n",
        "    print(\"Acesso negado. tentativa\", tentativas,\"de 3.\")\n",
        "    senha = int(input(\"Digite a senha:\"))\n",
        "    tentativas += 1\n",
        "  else:\n",
        "    print(\"Acesso permitido.\")\n",
        "    continue\n"
      ],
      "metadata": {
        "colab": {
          "base_uri": "https://localhost:8080/"
        },
        "id": "PqFr0ezQkbNR",
        "outputId": "b38ecdb6-2b97-469c-c315-e5a30c720fca"
      },
      "execution_count": null,
      "outputs": [
        {
          "output_type": "stream",
          "name": "stdout",
          "text": [
            "Digite a senha:4854854\n",
            "Acesso negado. tentativa 1\n",
            "Digite a senha:5484844\n",
            "Acesso negado. tentativa 2\n"
          ]
        }
      ]
    }
  ]
}