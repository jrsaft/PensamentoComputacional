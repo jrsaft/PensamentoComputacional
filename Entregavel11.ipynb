{
  "nbformat": 4,
  "nbformat_minor": 0,
  "metadata": {
    "colab": {
      "provenance": [],
      "authorship_tag": "ABX9TyMko5qLr0AgONNbSZbunQkR",
      "include_colab_link": true
    },
    "kernelspec": {
      "name": "python3",
      "display_name": "Python 3"
    },
    "language_info": {
      "name": "python"
    }
  },
  "cells": [
    {
      "cell_type": "markdown",
      "metadata": {
        "id": "view-in-github",
        "colab_type": "text"
      },
      "source": [
        "<a href=\"https://colab.research.google.com/github/jrsaft/PensamentoComputacional/blob/main/Entregavel11.ipynb\" target=\"_parent\"><img src=\"https://colab.research.google.com/assets/colab-badge.svg\" alt=\"Open In Colab\"/></a>"
      ]
    },
    {
      "cell_type": "code",
      "source": [
        "class Produto:\n",
        "    def __init__(self, nome = str, preco = float, moeda = str):\n",
        "        self.__nome = nome\n",
        "        self.__preco = preco\n",
        "        self.__moeda = moeda\n",
        "\n",
        "    def str(self):\n",
        "        infos: str = f'Nome: {self.__nome}';\n",
        "        infos += f'\\nPreço: {self.__preco}';\n",
        "        infos += f'\\nMoeda: {self.__moeda}';\n",
        "        return infos\n",
        "\n",
        "    def setNome(self, nome: str):\n",
        "        self.__nome = nome\n",
        "\n",
        "    def getNome(self) -> str:\n",
        "        return self.__nome\n",
        "\n",
        "    def getpreco(self) -> float:\n",
        "        return self.__preco\n",
        "\n",
        "    def setPreco(self, preco: float):\n",
        "        self.__preco = preco\n",
        "\n",
        "    def getMoeda(self) -> str:\n",
        "        return self.__moeda\n",
        "\n",
        "    def setMoeda(self, moeda: str):\n",
        "        self.__moeda = moeda\n",
        "\n",
        "class Produtoalimenticio(Produto):\n",
        "    def __init__(self, nome: str, preco: float, moeda: str, validade: str):\n",
        "        super().__init__(nome, preco, moeda)\n",
        "        self.__validade = validade\n",
        "\n",
        "class Produtoeletronico(Produto):\n",
        "    def __init__(self, nome: str, preco: float, moeda: str, garantia: str):\n",
        "        super().__init__(nome, preco, moeda)\n",
        "        self.__garantia = garantia\n",
        "\n",
        "class MoedaInvalidaError(Exception):\n",
        "    def __init__(self, moeda):\n",
        "        super().__init__(f\"Moeda inválida: {moeda}\")\n",
        "        self.moeda = moeda\n",
        "\n",
        "class Conversor:\n",
        "   def __init__(self):\n",
        "    self.__usdbrl = 5.05\n",
        "    self.__eurbrl = 6.14\n",
        "    self.__eusd = 1.22\n",
        "\n",
        "   def converte_preco_para_usd(self, produto) -> bool:\n",
        "    if produto.getMoeda() == \"brl\":\n",
        "      produto.setpreco(produto.getPreco()/self.__usdbrl)\n",
        "      produto.setmoeda(\"usd\")\n",
        "      return True\n",
        "    elif produto.getMoeda() == \"usd\":\n",
        "      print(\"Conversão desnecessária.\")\n",
        "      return False\n",
        "    else:\n",
        "      raise MoedaInvalidaError(produto.getMoeda())\n",
        "\n",
        "   def converte_preco_para_eur(self, produto) -> bool:\n",
        "    if produto.getMoeda() == \"brl\":\n",
        "      produto.setpreco(produto.getPreco()/self.__eurbrl)\n",
        "      produto.setmoeda(\"eur\")\n",
        "      return True\n",
        "    elif produto.getMoeda() == \"eur\":\n",
        "      print(\"Conversão desnecessária.\")\n",
        "      return False\n",
        "    else:\n",
        "      raise MoedaInvalidaError(produto.getMoeda())\n",
        "\n",
        "   def converte_preco_para_brl(self, produto) -> bool:\n",
        "    if produto.getMoeda() == \"usd\":\n",
        "      produto.setpreco(produto.getPreco() * self.__usdbrl)\n",
        "      produto.setmoeda(\"brl\")\n",
        "      return True\n",
        "    elif produto.getMoeda() == \"brl\":\n",
        "      print(\"Conversão desnecessária.\")\n",
        "      return False\n",
        "    else:\n",
        "      raise MoedaInvalidaError(produto.getMoeda())\n",
        "\n",
        "celular = Produtoeletronico(\"iphone\", 5000, \"brl\", \"1 ano\")\n",
        "leite = Produtoalimenticio(\"Leite\", 5,\"brl\", \"7 dias\")\n",
        "\n",
        "while True:\n",
        "  resp = input(\"Qual será o tipo de produto? (eletronico/alimenticio/Sair para encerrar): \")\n",
        "  if resp == \"sair\":\n",
        "    break\n",
        "  else:\n",
        "    if resp == \"eletronico\":\n",
        "      name = input(\"Qual o nome do produto? \")\n",
        "      price = float(input(\"Qual o preço do produto? \"))\n",
        "    elif resp == \"alimenticio\":\n",
        "      name = input(\"Qual o nome do produto? \")\n",
        "      price = float(input(\"Qual o preço do produto? \"))\n",
        "    else:\n",
        "      print(\"Resposta inválida.\")\n",
        "\n",
        "leite.converte_preco_para_usd(leite)\n",
        "print(leite.str())\n",
        "\n"
      ],
      "metadata": {
        "id": "AbrKG0vascVW",
        "colab": {
          "base_uri": "https://localhost:8080/",
          "height": 228
        },
        "outputId": "4c2dcf0c-6419-44ab-cbe8-de0ff549afe5"
      },
      "execution_count": 6,
      "outputs": [
        {
          "name": "stdout",
          "output_type": "stream",
          "text": [
            "Qual será o tipo de produto? (eletronico/alimenticio/Sair para encerrar): sair\n"
          ]
        },
        {
          "output_type": "error",
          "ename": "AttributeError",
          "evalue": "'Produtoalimenticio' object has no attribute 'converte_preco_para_usd'",
          "traceback": [
            "\u001b[0;31m---------------------------------------------------------------------------\u001b[0m",
            "\u001b[0;31mAttributeError\u001b[0m                            Traceback (most recent call last)",
            "\u001b[0;32m<ipython-input-6-03c6e19911e4>\u001b[0m in \u001b[0;36m<cell line: 0>\u001b[0;34m()\u001b[0m\n\u001b[1;32m    100\u001b[0m       \u001b[0mprint\u001b[0m\u001b[0;34m(\u001b[0m\u001b[0;34m\"Resposta inválida.\"\u001b[0m\u001b[0;34m)\u001b[0m\u001b[0;34m\u001b[0m\u001b[0;34m\u001b[0m\u001b[0m\n\u001b[1;32m    101\u001b[0m \u001b[0;34m\u001b[0m\u001b[0m\n\u001b[0;32m--> 102\u001b[0;31m \u001b[0mleite\u001b[0m\u001b[0;34m.\u001b[0m\u001b[0mconverte_preco_para_usd\u001b[0m\u001b[0;34m(\u001b[0m\u001b[0mleite\u001b[0m\u001b[0;34m)\u001b[0m\u001b[0;34m\u001b[0m\u001b[0;34m\u001b[0m\u001b[0m\n\u001b[0m\u001b[1;32m    103\u001b[0m \u001b[0mprint\u001b[0m\u001b[0;34m(\u001b[0m\u001b[0mleite\u001b[0m\u001b[0;34m.\u001b[0m\u001b[0mstr\u001b[0m\u001b[0;34m(\u001b[0m\u001b[0;34m)\u001b[0m\u001b[0;34m)\u001b[0m\u001b[0;34m\u001b[0m\u001b[0;34m\u001b[0m\u001b[0m\n\u001b[1;32m    104\u001b[0m \u001b[0;34m\u001b[0m\u001b[0m\n",
            "\u001b[0;31mAttributeError\u001b[0m: 'Produtoalimenticio' object has no attribute 'converte_preco_para_usd'"
          ]
        }
      ]
    }
  ]
}