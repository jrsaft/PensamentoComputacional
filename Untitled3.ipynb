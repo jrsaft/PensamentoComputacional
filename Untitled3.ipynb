{
  "nbformat": 4,
  "nbformat_minor": 0,
  "metadata": {
    "colab": {
      "provenance": [],
      "authorship_tag": "ABX9TyM91JG2kpc7aBFJ9EsYX/rX",
      "include_colab_link": true
    },
    "kernelspec": {
      "name": "python3",
      "display_name": "Python 3"
    },
    "language_info": {
      "name": "python"
    }
  },
  "cells": [
    {
      "cell_type": "markdown",
      "metadata": {
        "id": "view-in-github",
        "colab_type": "text"
      },
      "source": [
        "<a href=\"https://colab.research.google.com/github/jrsaft/PensamentoComputacional/blob/main/Untitled3.ipynb\" target=\"_parent\"><img src=\"https://colab.research.google.com/assets/colab-badge.svg\" alt=\"Open In Colab\"/></a>"
      ]
    },
    {
      "cell_type": "code",
      "source": [
        "class Produto:\n",
        "    def __init__(self, nome = str, preco = float, moeda = str):\n",
        "        self.__nome = nome\n",
        "        self.__preco = preco\n",
        "        self.__moeda = moeda\n",
        "\n",
        "    def str(self):\n",
        "        infos: str = f'Nome: {self.__nome}';\n",
        "        infos += f'\\nPreço: {self.__preco}';\n",
        "        infos += f'\\nMoeda: {self.__moeda}';\n",
        "        return infos\n",
        "\n",
        "    def setNome(self, nome: str):\n",
        "        self.__nome = nome\n",
        "\n",
        "    def getNome(self) -> str:\n",
        "        return self.__nome\n",
        "\n",
        "    def getpreco(self) -> float:\n",
        "        return self.__preco\n",
        "\n",
        "    def setPreco(self, preco: float):\n",
        "        self.__preco = preco\n",
        "\n",
        "    def getMoeda(self) -> str:\n",
        "        return self.__moeda\n",
        "\n",
        "    def setMoeda(self, moeda: str):\n",
        "        self.__moeda = moeda\n",
        "\n",
        "class Produtoalimenticio(Produto):\n",
        "    def __init__(self, nome: str, preco: float, moeda: str, validade: str):\n",
        "        super().__init__(nome, preco, moeda)\n",
        "        self.__validade = validade\n",
        "\n",
        "class Produtoeletronico(Produto):\n",
        "    def __init__(self, nome: str, preco: float, moeda: str, garantia: str):\n",
        "        super().__init__(nome, preco, moeda)\n",
        "        self.__garantia = garantia\n",
        "\n",
        "class Conversor:\n",
        "   def __init__(self):\n",
        "    self.__usdbrl = 5.05\n",
        "    self.__eurbrl = 6.14\n",
        "    self.__eusd = 1.22\n",
        "\n",
        "   def converte_preco_para_usd(self, produto) -> bool:\n",
        "    if produto.getMoeda() == \"brl\":\n",
        "      produto.setpreco(produto.getPreco()/self.__usdbrl)\n",
        "      produto.setmoeda(\"usd\")\n",
        "      return True\n",
        "    elif produto.getMoeda() == \"ud\":\n",
        "      print(\"Conversão desnecessária.\")\n",
        "      return False\n",
        "    else:\n",
        "\n",
        "\n",
        "\n",
        "   def converte_preco_para_eur(self, produto) -> bool:\n",
        "    if produto.getMoeda() == \"eur\":\n",
        "      produto.setpreco(produto.getPreco()/self.__eurbrl)\n",
        "      produto.setmoeda(\"eur\")\n",
        "      return True\n",
        "    else:\n",
        "      print(\"Conversão desnecessária.\")\n",
        "      return False\n",
        "\n",
        "   def converte_preco_para_brl(self, produto) -> bool:\n",
        "    if produto.getMoeda() == \"brl\":\n",
        "      produto.setpreco(produto.getPreco() * self.__usdbrl)\n",
        "      produto.setmoeda(\"brl\")\n",
        "      return True\n",
        "    else:\n",
        "      print(\"Conversão desnecessária.\")\n",
        "      return False\n",
        "\n",
        ""
      ],
      "metadata": {
        "colab": {
          "base_uri": "https://localhost:8080/",
          "height": 106
        },
        "id": "AbrKG0vascVW",
        "outputId": "543f059d-3073-4420-dc1c-91b15f1f4f1f"
      },
      "execution_count": 2,
      "outputs": [
        {
          "output_type": "error",
          "ename": "SyntaxError",
          "evalue": "expected ':' (<ipython-input-2-5d47ce8c177a>, line 28)",
          "traceback": [
            "\u001b[0;36m  File \u001b[0;32m\"<ipython-input-2-5d47ce8c177a>\"\u001b[0;36m, line \u001b[0;32m28\u001b[0m\n\u001b[0;31m    def setMoeda(self, moeda: str)\u001b[0m\n\u001b[0m                                  ^\u001b[0m\n\u001b[0;31mSyntaxError\u001b[0m\u001b[0;31m:\u001b[0m expected ':'\n"
          ]
        }
      ]
    }
  ]
}